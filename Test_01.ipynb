{
 "cells": [
  {
   "cell_type": "code",
   "execution_count": 32,
   "id": "c11d2e59",
   "metadata": {},
   "outputs": [
    {
     "name": "stdout",
     "output_type": "stream",
     "text": [
      "Enter the string:Geeks for Geeks\n"
     ]
    },
    {
     "data": {
      "text/plain": [
       "'Geeks for'"
      ]
     },
     "execution_count": 32,
     "metadata": {},
     "output_type": "execute_result"
    }
   ],
   "source": [
    "#Remove all duplicates words/strings which are similar to each others.\n",
    "#Examples:  \n",
    "#Input : Geeks for Geeks\n",
    "#Output : Geeks for\n",
    "\n",
    "a=input(\"Enter the string:\" )\n",
    "b=a.split()  #splits a string into a list of strings\n",
    "c= {x for x in b} #Set comprehension\n",
    "' '.join(c)\n"
   ]
  },
  {
   "cell_type": "code",
   "execution_count": 36,
   "id": "ff29181a",
   "metadata": {},
   "outputs": [],
   "source": [
    "#Input : Python is great and Java is also great\n",
    "#Output : is also Java Python and great\n"
   ]
  },
  {
   "cell_type": "code",
   "execution_count": 31,
   "id": "d8359fdd",
   "metadata": {},
   "outputs": [
    {
     "name": "stdout",
     "output_type": "stream",
     "text": [
      "Letters:  8\n",
      "Digits:  3\n",
      "Symbols:  4\n"
     ]
    }
   ],
   "source": [
    "#Count all letters, digits, and special symbols from a given string\n",
    "#Given: str1 = \"P@#yn26at^&i5ve\"\n",
    "\n",
    "str1 = \"P@#yn26at^&i5ve\"\n",
    "letters = [letter for letter in str1 if letter.isalpha()] #List Comprehensions\n",
    "digits = [digit for digit in str1 if digit.isdigit()] #List Comprehensions\n",
    "symbols = [symbol for symbol in str1 if not symbol.isdigit() and not symbol.isalpha()] #List Comprehensions\n",
    "print(\"Letters: \", len(letters))\n",
    "print(\"Digits: \", len(digits))\n",
    "print(\"Symbols: \", len(symbols))"
   ]
  },
  {
   "cell_type": "code",
   "execution_count": 37,
   "id": "0f0551f7",
   "metadata": {},
   "outputs": [
    {
     "name": "stdout",
     "output_type": "stream",
     "text": [
      "No. of Upper case characters:  3\n",
      "No. of Lower case characters:  12\n"
     ]
    }
   ],
   "source": [
    "#Write a Python function that accepts a string and counts the number of upper and lower case letters.\n",
    "#Sample String : 'The quick Brow Fox'\n",
    "#Expected Output :\n",
    "#No. of Upper case characters : 3\n",
    "#No. of Lower case Characters : 12\n",
    "\n",
    "str1=\"The quick Brow Fox\"\n",
    "upper = [upper for upper in str1 if upper.isupper()] #List Comprehensions\n",
    "lower = [lower for lower in str1 if lower.islower()] #List Comprehensions\n",
    "print(\"No. of Upper case characters: \", len(upper))\n",
    "print(\"No. of Lower case characters: \", len(lower))"
   ]
  },
  {
   "cell_type": "code",
   "execution_count": 40,
   "id": "0e4196d8",
   "metadata": {},
   "outputs": [
    {
     "data": {
      "text/plain": [
       "'Pawar Ajit'"
      ]
     },
     "execution_count": 40,
     "metadata": {},
     "output_type": "execute_result"
    }
   ],
   "source": [
    "#Write a program to reverse first name and last name\n",
    "#name = 'Ajit Pawar'\n",
    "#output = 'Pawar Ajit'\n",
    "\n",
    "name = \"Ajit Pawar\"\n",
    "name = name.split() #splits a string into a list of strings\n",
    "name = name[::-1] #revesre using negative indexing\n",
    "name = ' '.join(name) #joins elements in a sequence into a single string\n",
    "name"
   ]
  },
  {
   "cell_type": "code",
   "execution_count": 60,
   "id": "a6f5a0c4",
   "metadata": {},
   "outputs": [
    {
     "name": "stdout",
     "output_type": "stream",
     "text": [
      "tijA rawaP\n"
     ]
    }
   ],
   "source": [
    "#Take your name as an input and print in reverse order\n",
    "#without changing firstName LastName position\n",
    "#Ex.name = 'Ajit Pawar'\n",
    "#output = 'tijA rawaP'\n",
    "\n",
    "name = \"Ajit Pawar\"\n",
    "name = name.split() #splits a string into a list of strings\n",
    "name1=name[0] #first name as separate string\n",
    "name2=name[1] #last name as separate string\n",
    "a=name1[::-1] #revesre using negative indexing\n",
    "b=name2[::-1] #revesre using negative indexing\n",
    "print(a, b) #printing as a string"
   ]
  },
  {
   "cell_type": "code",
   "execution_count": 64,
   "id": "3f40ffeb",
   "metadata": {},
   "outputs": [
    {
     "data": {
      "text/plain": [
       "{'A': 1, 'p': 2, 'l': 1, 'e': 1}"
      ]
     },
     "execution_count": 64,
     "metadata": {},
     "output_type": "execute_result"
    }
   ],
   "source": [
    "#Write a program to count occurrences of all characters within a string \n",
    "#Return a dict with unique characters and value as count of each.\n",
    "#Given:\n",
    "#str1 = \"Apple\"\n",
    "#Expected Outcome: {'A': 1, 'p': 2, 'l': 1, 'e': 1}\n",
    "\n",
    "str1=\"Apple\"\n",
    "dict1 = {}\n",
    "for i in str1:\n",
    "  if i not in dict1:\n",
    "    dict1[i] = 1\n",
    "  else:\n",
    "    dict1[i] += 1\n",
    "dict1"
   ]
  },
  {
   "cell_type": "code",
   "execution_count": 63,
   "id": "130812cf",
   "metadata": {},
   "outputs": [
    {
     "data": {
      "text/plain": [
       "{'A': 1, 'p': 2, 'l': 1, 'e': 1}"
      ]
     },
     "execution_count": 63,
     "metadata": {},
     "output_type": "execute_result"
    }
   ],
   "source": [
    "#Write a program to count occurrences of all characters within a string  Return a dict with unique characters and value as count of each. Given: str1 = \"Apple\" Expected Outcome: {'A': 1, 'p': 2, 'l': 1, 'e': 1}\n",
    "\n",
    "str1 = \"Apple\"\n",
    "dict1 = {i:str1.count(i) for i in str1} #Dictionary comprehension\n",
    "dict1"
   ]
  },
  {
   "cell_type": "code",
   "execution_count": 68,
   "id": "01cfda9c",
   "metadata": {},
   "outputs": [
    {
     "data": {
      "text/plain": [
       "['Emma', 'Jon', 'Kelly', 'Eric']"
      ]
     },
     "execution_count": 68,
     "metadata": {},
     "output_type": "execute_result"
    }
   ],
   "source": [
    "#Remove empty strings from a list of strings\n",
    "#Given:str_list = [\"Emma\", \"Jon\", \"\", \"Kelly\", None, \"Eric\", \"\"]\n",
    "#After removing empty strings ['Emma', 'Jon', 'Kelly', 'Eric']\n",
    "\n",
    "str_list = [\"Emma\", \"Jon\", \"\", \"Kelly\", None, \"Eric\", \"\"]\n",
    "[x for x in str_list if x] ##List Comprehensions"
   ]
  },
  {
   "cell_type": "code",
   "execution_count": 72,
   "id": "8943b327",
   "metadata": {},
   "outputs": [
    {
     "data": {
      "text/plain": [
       "['My', 'name', 'is', 'Kelly']"
      ]
     },
     "execution_count": 72,
     "metadata": {},
     "output_type": "execute_result"
    }
   ],
   "source": [
    "#Write a program to add two lists index-wise. \n",
    "#Create a new list that contains the 0th index item from both the list, then the 1st index item, and so on till the last element. any leftover items will get added at the end of the new list.\n",
    "#Given:\n",
    "#list1 = [\"M\", \"na\", \"i\", \"Ke\"]\n",
    "#list2 = [\"y\", \"me\", \"s\", \"lly\"]\n",
    "#Expected output:\n",
    "#['My', 'name', 'is', 'Kelly']\n",
    "\n",
    "list1 = [\"M\", \"na\", \"i\", \"Ke\"]\n",
    "list2 = [\"y\", \"me\", \"s\", \"lly\"]\n",
    "list3 = [i + j for i, j in zip(list1, list2)] #List comprehension that iterates through the pairs generated by zip(list1, list2)\n",
    "list3"
   ]
  },
  {
   "cell_type": "code",
   "execution_count": 73,
   "id": "cedfd427",
   "metadata": {},
   "outputs": [
    {
     "data": {
      "text/plain": [
       "['Hello Dear', 'Hello Sir', 'take Dear', 'take Sir']"
      ]
     },
     "execution_count": 73,
     "metadata": {},
     "output_type": "execute_result"
    }
   ],
   "source": [
    "#Concatenate two lists in the following order\n",
    "#list1 = [\"Hello \", \"take \"]\n",
    "#list2 = [\"Dear\", \"Sir\"]\n",
    "#Expected output:\n",
    "#['Hello Dear', 'Hello Sir', 'take Dear', 'take Sir']\n",
    "\n",
    "list1 = [\"Hello \", \"take \"]\n",
    "list2 = [\"Dear\", \"Sir\"]\n",
    "list3 = [i + j for i in list1 for j in list2] #List comprehension using nested loop\n",
    "list3"
   ]
  },
  {
   "cell_type": "code",
   "execution_count": 74,
   "id": "7cf89645",
   "metadata": {},
   "outputs": [
    {
     "name": "stdout",
     "output_type": "stream",
     "text": [
      "Number of even numbers: 4\n",
      "Number of odd numbers: 5\n"
     ]
    }
   ],
   "source": [
    "#Write a Python program to count the number of even and odd numbers in a series of numbers\n",
    "#Sample numbers : numbers = (1, 2, 3, 4, 5, 6, 7, 8, 9) \n",
    "#Expected Output :\n",
    "#Number of even numbers : 5\n",
    "#Number of odd numbers : 4\n",
    "\n",
    "numbers = (1, 2, 3, 4, 5, 6, 7, 8, 9)\n",
    "even_count = 0\n",
    "odd_count = 0\n",
    "for num in numbers:\n",
    "  if num % 2 == 0: #equality operator and Modulus\n",
    "    even_count += 1\n",
    "  else:\n",
    "    odd_count += 1\n",
    "print(\"Number of even numbers:\", even_count)\n",
    "print(\"Number of odd numbers:\", odd_count)"
   ]
  },
  {
   "cell_type": "code",
   "execution_count": 75,
   "id": "999823ea",
   "metadata": {},
   "outputs": [
    {
     "name": "stdout",
     "output_type": "stream",
     "text": [
      "[10, 20, [300, 400, [5000, 6000, 7000], 500], 30, 40]\n"
     ]
    }
   ],
   "source": [
    "#Write a program to add item 7000 after 6000 in the following Python List\n",
    "#Given:\n",
    "#list1 = [10, 20, [300, 400, [5000, 6000], 500], 30, 40]\n",
    "#Expected output:\n",
    "#[10, 20, [300, 400, [5000, 6000, 7000], 500], 30, 40]\n",
    "\n",
    "list1 = [10, 20, [300, 400, [5000, 6000], 500], 30, 40]\n",
    "list1[2][2].append(7000) #appends an element to the end of the list\n",
    "print(list1)"
   ]
  },
  {
   "cell_type": "code",
   "execution_count": null,
   "id": "b331a475",
   "metadata": {},
   "outputs": [],
   "source": []
  }
 ],
 "metadata": {
  "kernelspec": {
   "display_name": "Python 3 (ipykernel)",
   "language": "python",
   "name": "python3"
  },
  "language_info": {
   "codemirror_mode": {
    "name": "ipython",
    "version": 3
   },
   "file_extension": ".py",
   "mimetype": "text/x-python",
   "name": "python",
   "nbconvert_exporter": "python",
   "pygments_lexer": "ipython3",
   "version": "3.11.5"
  }
 },
 "nbformat": 4,
 "nbformat_minor": 5
}
